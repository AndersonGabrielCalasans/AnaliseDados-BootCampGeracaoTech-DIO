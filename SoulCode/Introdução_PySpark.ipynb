{
  "nbformat": 4,
  "nbformat_minor": 0,
  "metadata": {
    "colab": {
      "provenance": [],
      "authorship_tag": "ABX9TyPmc6fppsWPcK0ugDoH0trt",
      "include_colab_link": true
    },
    "kernelspec": {
      "name": "python3",
      "display_name": "Python 3"
    },
    "language_info": {
      "name": "python"
    }
  },
  "cells": [
    {
      "cell_type": "markdown",
      "metadata": {
        "id": "view-in-github",
        "colab_type": "text"
      },
      "source": [
        "<a href=\"https://colab.research.google.com/github/AndersonGabrielCalasans/AnaliseDados-BootCampGeracaoTech-DIO/blob/master/SoulCode/Introdu%C3%A7%C3%A3o_PySpark.ipynb\" target=\"_parent\"><img src=\"https://colab.research.google.com/assets/colab-badge.svg\" alt=\"Open In Colab\"/></a>"
      ]
    },
    {
      "cell_type": "code",
      "execution_count": 1,
      "metadata": {
        "colab": {
          "base_uri": "https://localhost:8080/"
        },
        "id": "VcnpgJXI1BuM",
        "outputId": "b2abffe1-5fa9-4534-9396-295948028b73"
      },
      "outputs": [
        {
          "output_type": "stream",
          "name": "stdout",
          "text": [
            "Looking in indexes: https://pypi.org/simple, https://us-python.pkg.dev/colab-wheels/public/simple/\n",
            "Collecting pyspark\n",
            "  Downloading pyspark-3.3.1.tar.gz (281.4 MB)\n",
            "\u001b[K     |████████████████████████████████| 281.4 MB 43 kB/s \n",
            "\u001b[?25hCollecting py4j==0.10.9.5\n",
            "  Downloading py4j-0.10.9.5-py2.py3-none-any.whl (199 kB)\n",
            "\u001b[K     |████████████████████████████████| 199 kB 54.8 MB/s \n",
            "\u001b[?25hBuilding wheels for collected packages: pyspark\n",
            "  Building wheel for pyspark (setup.py) ... \u001b[?25l\u001b[?25hdone\n",
            "  Created wheel for pyspark: filename=pyspark-3.3.1-py2.py3-none-any.whl size=281845512 sha256=9b66a9c571be550527c83ddf4295c5b20ab4126b3227f84124070074a946ee08\n",
            "  Stored in directory: /root/.cache/pip/wheels/43/dc/11/ec201cd671da62fa9c5cc77078235e40722170ceba231d7598\n",
            "Successfully built pyspark\n",
            "Installing collected packages: py4j, pyspark\n",
            "Successfully installed py4j-0.10.9.5 pyspark-3.3.1\n"
          ]
        }
      ],
      "source": [
        "# Instalação da biblioteca PySpark\n",
        "!pip install pyspark"
      ]
    },
    {
      "cell_type": "code",
      "source": [
        "# Importando a SparkSession\n",
        "from pyspark.sql import SparkSession\n",
        "\n",
        "# Import as functions\n",
        "import pyspark.sql.functions as F"
      ],
      "metadata": {
        "id": "2-2Ecr_I1u-t"
      },
      "execution_count": 31,
      "outputs": []
    },
    {
      "cell_type": "code",
      "source": [
        "# Configurando a variável de ambiente (sessão) Spark \n",
        "spark = (SparkSession.builder\n",
        "                    .master('local')\n",
        "                    .appName('Intro-pyspark')\n",
        "                    .config('spark.ui.port', '4050')\n",
        "                    .getOrCreate()\n",
        ")\n",
        "\n",
        "# master: local de execução\n",
        "# appname: nome da aplicação\n",
        "# config: porta local\n",
        "# getorcreate: retorna ou cria caso não exista"
      ],
      "metadata": {
        "id": "qKOqPYPc3eVk"
      },
      "execution_count": 3,
      "outputs": []
    },
    {
      "cell_type": "code",
      "source": [
        "# Testando se iniciou a variável\n",
        "spark"
      ],
      "metadata": {
        "colab": {
          "base_uri": "https://localhost:8080/",
          "height": 219
        },
        "id": "uypYQ7LM48eR",
        "outputId": "997668bc-fd81-4773-b28d-d7291570b2ed"
      },
      "execution_count": 4,
      "outputs": [
        {
          "output_type": "execute_result",
          "data": {
            "text/plain": [
              "<pyspark.sql.session.SparkSession at 0x7fa9b5b675e0>"
            ],
            "text/html": [
              "\n",
              "            <div>\n",
              "                <p><b>SparkSession - in-memory</b></p>\n",
              "                \n",
              "        <div>\n",
              "            <p><b>SparkContext</b></p>\n",
              "\n",
              "            <p><a href=\"http://eae33d24fb02:4050\">Spark UI</a></p>\n",
              "\n",
              "            <dl>\n",
              "              <dt>Version</dt>\n",
              "                <dd><code>v3.3.1</code></dd>\n",
              "              <dt>Master</dt>\n",
              "                <dd><code>local</code></dd>\n",
              "              <dt>AppName</dt>\n",
              "                <dd><code>Intro-pyspark</code></dd>\n",
              "            </dl>\n",
              "        </div>\n",
              "        \n",
              "            </div>\n",
              "        "
            ]
          },
          "metadata": {},
          "execution_count": 4
        }
      ]
    },
    {
      "cell_type": "code",
      "source": [
        "# Como funciona os DataFrames no Spark\n",
        "schema = ['id', 'nome', 'cpf', 'celular']\n",
        "\n",
        "dados = [\n",
        "    (1, 'Anderson Gabriel', '999.999.999-99','(81)9.9999-9999'),\n",
        "    (2, 'Ligia Paula', '111.111.111-11','(81)9.1111-1111'),\n",
        "    (3, 'Tales Paulo', '222.222.222-22', '(82)9.8888-8888'),\n",
        "    (4, 'Maria das Gracas', '333.333.333-33', '(21)9.8585-8585')\n",
        "]\n",
        "\n",
        "# Gerando o DataFrame\n",
        "df = spark.createDataFrame(dados, schema)"
      ],
      "metadata": {
        "id": "CzffCpTg5Aq5"
      },
      "execution_count": 5,
      "outputs": []
    },
    {
      "cell_type": "code",
      "source": [
        "# Mostrando o DataFrame\n",
        "df.show()"
      ],
      "metadata": {
        "colab": {
          "base_uri": "https://localhost:8080/"
        },
        "id": "6_Uu_FYN7BbP",
        "outputId": "cd30e21c-0d96-4656-8ca1-5908d68ef618"
      },
      "execution_count": 8,
      "outputs": [
        {
          "output_type": "stream",
          "name": "stdout",
          "text": [
            "+---+----------------+--------------+---------------+\n",
            "| id|            nome|           cpf|        celular|\n",
            "+---+----------------+--------------+---------------+\n",
            "|  1|Anderson Gabriel|999.999.999-99|(81)9.9999-9999|\n",
            "|  2|     Ligia Paula|111.111.111-11|(81)9.1111-1111|\n",
            "|  3|     Tales Paulo|222.222.222-22|(82)9.8888-8888|\n",
            "|  4|Maria das Gracas|333.333.333-33|(21)9.8585-8585|\n",
            "+---+----------------+--------------+---------------+\n",
            "\n"
          ]
        }
      ]
    },
    {
      "cell_type": "markdown",
      "source": [
        "No spark caso você não defina os tipos das variáveis, ele infere por si só."
      ],
      "metadata": {
        "id": "o3mX_D0i7eLS"
      }
    },
    {
      "cell_type": "code",
      "source": [
        "# Schema do DataFrame\n",
        "df.printSchema()"
      ],
      "metadata": {
        "colab": {
          "base_uri": "https://localhost:8080/"
        },
        "id": "g35RlCRT7JLv",
        "outputId": "100e20dd-4e73-4507-d62e-73b766730580"
      },
      "execution_count": 9,
      "outputs": [
        {
          "output_type": "stream",
          "name": "stdout",
          "text": [
            "root\n",
            " |-- id: long (nullable = true)\n",
            " |-- nome: string (nullable = true)\n",
            " |-- cpf: string (nullable = true)\n",
            " |-- celular: string (nullable = true)\n",
            "\n"
          ]
        }
      ]
    },
    {
      "cell_type": "code",
      "source": [
        "schema2 = 'id INT, nome STRING, cpf STRING, celular STRING, cidade STRING'\n",
        "\n",
        "dados2 = [\n",
        "    (1, 'Anderson Gabriel', '999.999.999-99','(81)9.9999-9999', 'Recife'),\n",
        "    (2, 'Ligia Paula', '111.111.111-11','(81)9.1111-1111', 'Jaboatao'),\n",
        "    (3, 'Tales Paulo', '222.222.222-22', '(82)9.8888-8888', 'Escada'),\n",
        "    (4, 'Maria das Gracas', '333.333.333-33', '(21)9.8585-8585','Escada')\n",
        "]\n",
        "\n",
        "# Gerando o DataFrame\n",
        "df2 = spark.createDataFrame(dados2, schema2)"
      ],
      "metadata": {
        "id": "G9LYRX4b7O7g"
      },
      "execution_count": 34,
      "outputs": []
    },
    {
      "cell_type": "markdown",
      "source": [
        "Ao realizar a inferência do schema manualmente você ganha em relação ao processamento (pois o spark não necessita percorrer a coluna para verificar o tipo dos dados) e evita a tipagem errada dos mesmo."
      ],
      "metadata": {
        "id": "eyRQHfYn8YgR"
      }
    },
    {
      "cell_type": "code",
      "source": [
        "# Schema do DataFrame\n",
        "df2.printSchema()"
      ],
      "metadata": {
        "colab": {
          "base_uri": "https://localhost:8080/"
        },
        "id": "pxZ-ZoEi8Ev5",
        "outputId": "425c87df-9169-42b5-f409-7c869ef13239"
      },
      "execution_count": 35,
      "outputs": [
        {
          "output_type": "stream",
          "name": "stdout",
          "text": [
            "root\n",
            " |-- id: integer (nullable = true)\n",
            " |-- nome: string (nullable = true)\n",
            " |-- cpf: string (nullable = true)\n",
            " |-- celular: string (nullable = true)\n",
            " |-- cidade: string (nullable = true)\n",
            "\n"
          ]
        }
      ]
    },
    {
      "cell_type": "code",
      "source": [
        "# verificar quantidade de linhas do DataFrame\n",
        "df2.count()"
      ],
      "metadata": {
        "colab": {
          "base_uri": "https://localhost:8080/"
        },
        "id": "V7O7wA4n8GV4",
        "outputId": "c86ce7e1-c90d-4e2d-d9d8-4d7fdf555892"
      },
      "execution_count": 36,
      "outputs": [
        {
          "output_type": "execute_result",
          "data": {
            "text/plain": [
              "4"
            ]
          },
          "metadata": {},
          "execution_count": 36
        }
      ]
    },
    {
      "cell_type": "code",
      "source": [
        "# Visualizar colunas\n",
        "df2.columns"
      ],
      "metadata": {
        "colab": {
          "base_uri": "https://localhost:8080/"
        },
        "id": "ujmAJbr0-C8U",
        "outputId": "6b18fdb7-9df4-455a-c6a6-ac3296f1824d"
      },
      "execution_count": 37,
      "outputs": [
        {
          "output_type": "execute_result",
          "data": {
            "text/plain": [
              "['id', 'nome', 'cpf', 'celular', 'cidade']"
            ]
          },
          "metadata": {},
          "execution_count": 37
        }
      ]
    },
    {
      "cell_type": "markdown",
      "source": [
        "Os DataFrames são imutáveis. O comando SELECT não altera o DataFrame, apenas mostra em tempo de execução"
      ],
      "metadata": {
        "id": "PCAaPu9VGmXp"
      }
    },
    {
      "cell_type": "code",
      "source": [
        "# 1º transformação dos dados - SELECT\n",
        "df2.select('nome', 'cpf').show()"
      ],
      "metadata": {
        "colab": {
          "base_uri": "https://localhost:8080/"
        },
        "id": "JxkAx1xuFvpn",
        "outputId": "8f61fdd7-ee19-49bf-e10c-1b7edca11a77"
      },
      "execution_count": 38,
      "outputs": [
        {
          "output_type": "stream",
          "name": "stdout",
          "text": [
            "+----------------+--------------+\n",
            "|            nome|           cpf|\n",
            "+----------------+--------------+\n",
            "|Anderson Gabriel|999.999.999-99|\n",
            "|     Ligia Paula|111.111.111-11|\n",
            "|     Tales Paulo|222.222.222-22|\n",
            "|Maria das Gracas|333.333.333-33|\n",
            "+----------------+--------------+\n",
            "\n"
          ]
        }
      ]
    },
    {
      "cell_type": "code",
      "source": [
        "# Outra forma de fazer SELECT (com F.col)\n",
        "df2.select(F.col('nome'), F.col('cpf')).show()"
      ],
      "metadata": {
        "colab": {
          "base_uri": "https://localhost:8080/"
        },
        "id": "9biStC13J5Ng",
        "outputId": "a0b81d95-ac16-4645-b891-63dbfcf5ba80"
      },
      "execution_count": 39,
      "outputs": [
        {
          "output_type": "stream",
          "name": "stdout",
          "text": [
            "+----------------+--------------+\n",
            "|            nome|           cpf|\n",
            "+----------------+--------------+\n",
            "|Anderson Gabriel|999.999.999-99|\n",
            "|     Ligia Paula|111.111.111-11|\n",
            "|     Tales Paulo|222.222.222-22|\n",
            "|Maria das Gracas|333.333.333-33|\n",
            "+----------------+--------------+\n",
            "\n"
          ]
        }
      ]
    },
    {
      "cell_type": "code",
      "source": [
        "df2.show()"
      ],
      "metadata": {
        "colab": {
          "base_uri": "https://localhost:8080/"
        },
        "id": "ZrEnrbVgHfOo",
        "outputId": "210c6273-86e6-4076-ade6-5c353f397569"
      },
      "execution_count": 40,
      "outputs": [
        {
          "output_type": "stream",
          "name": "stdout",
          "text": [
            "+---+----------------+--------------+---------------+--------+\n",
            "| id|            nome|           cpf|        celular|  cidade|\n",
            "+---+----------------+--------------+---------------+--------+\n",
            "|  1|Anderson Gabriel|999.999.999-99|(81)9.9999-9999|  Recife|\n",
            "|  2|     Ligia Paula|111.111.111-11|(81)9.1111-1111|Jaboatao|\n",
            "|  3|     Tales Paulo|222.222.222-22|(82)9.8888-8888|  Escada|\n",
            "|  4|Maria das Gracas|333.333.333-33|(21)9.8585-8585|  Escada|\n",
            "+---+----------------+--------------+---------------+--------+\n",
            "\n"
          ]
        }
      ]
    },
    {
      "cell_type": "code",
      "source": [
        "# Salvando as alterações em um novo DF\n",
        "df4 = df2.select('nome', 'cpf')\n",
        "df4.show()"
      ],
      "metadata": {
        "colab": {
          "base_uri": "https://localhost:8080/"
        },
        "id": "Qp5qt9PPHTjh",
        "outputId": "1c924a1f-e814-4175-e0bc-4f226698e6fe"
      },
      "execution_count": 41,
      "outputs": [
        {
          "output_type": "stream",
          "name": "stdout",
          "text": [
            "+----------------+--------------+\n",
            "|            nome|           cpf|\n",
            "+----------------+--------------+\n",
            "|Anderson Gabriel|999.999.999-99|\n",
            "|     Ligia Paula|111.111.111-11|\n",
            "|     Tales Paulo|222.222.222-22|\n",
            "|Maria das Gracas|333.333.333-33|\n",
            "+----------------+--------------+\n",
            "\n"
          ]
        }
      ]
    },
    {
      "cell_type": "code",
      "source": [
        "# Verificando o tipo do objeto\n",
        "type(df4)"
      ],
      "metadata": {
        "colab": {
          "base_uri": "https://localhost:8080/"
        },
        "id": "_JMskjQWJxg-",
        "outputId": "47d874e7-35aa-4915-e25d-1e4651f5d02f"
      },
      "execution_count": 42,
      "outputs": [
        {
          "output_type": "execute_result",
          "data": {
            "text/plain": [
              "pyspark.sql.dataframe.DataFrame"
            ]
          },
          "metadata": {},
          "execution_count": 42
        }
      ]
    },
    {
      "cell_type": "code",
      "source": [
        "# Aplicando um filtro para apenas cidade = Escada\n",
        "df2.filter(F.col('cidade')=='Escada').show()"
      ],
      "metadata": {
        "colab": {
          "base_uri": "https://localhost:8080/"
        },
        "id": "W16OKU2OMa4z",
        "outputId": "612d4904-123e-49a3-b80b-94b162c6a565"
      },
      "execution_count": 45,
      "outputs": [
        {
          "output_type": "stream",
          "name": "stdout",
          "text": [
            "+---+----------------+--------------+---------------+------+\n",
            "| id|            nome|           cpf|        celular|cidade|\n",
            "+---+----------------+--------------+---------------+------+\n",
            "|  3|     Tales Paulo|222.222.222-22|(82)9.8888-8888|Escada|\n",
            "|  4|Maria das Gracas|333.333.333-33|(21)9.8585-8585|Escada|\n",
            "+---+----------------+--------------+---------------+------+\n",
            "\n"
          ]
        }
      ]
    },
    {
      "cell_type": "code",
      "source": [
        "# Filtrando e mostrando apenas colunas nome e cpf onde cidade = Escada\n",
        "df2.select(F.col('nome'), F.col('cpf')).filter(F.col('cidade')=='Escada').show()"
      ],
      "metadata": {
        "colab": {
          "base_uri": "https://localhost:8080/"
        },
        "id": "K1weCM6tMvkp",
        "outputId": "8effd00a-a4ae-47e5-d9de-90b17b771608"
      },
      "execution_count": 64,
      "outputs": [
        {
          "output_type": "stream",
          "name": "stdout",
          "text": [
            "+----------------+--------------+\n",
            "|            nome|           cpf|\n",
            "+----------------+--------------+\n",
            "|     Tales Paulo|222.222.222-22|\n",
            "|Maria das Gracas|333.333.333-33|\n",
            "+----------------+--------------+\n",
            "\n"
          ]
        }
      ]
    },
    {
      "cell_type": "code",
      "source": [
        "# Filtrando e mostrando apenas colunas nome e cpf onde cidade = Escada ou Recife\n",
        "df2.select(F.col('nome'), F.col('cpf')).filter(\"cidade='Escada' or cidade='Recife'\").show()"
      ],
      "metadata": {
        "colab": {
          "base_uri": "https://localhost:8080/"
        },
        "id": "4W5h5uwTO1H3",
        "outputId": "edaf623c-e0b3-47f2-b03f-7715af5b826e"
      },
      "execution_count": 65,
      "outputs": [
        {
          "output_type": "stream",
          "name": "stdout",
          "text": [
            "+----------------+--------------+\n",
            "|            nome|           cpf|\n",
            "+----------------+--------------+\n",
            "|Anderson Gabriel|999.999.999-99|\n",
            "|     Tales Paulo|222.222.222-22|\n",
            "|Maria das Gracas|333.333.333-33|\n",
            "+----------------+--------------+\n",
            "\n"
          ]
        }
      ]
    },
    {
      "cell_type": "code",
      "source": [
        "# Filtrando e mostrando apenas colunas nome e cpf onde cidade = Escada ou Recife (outra forma com | para 'or' e & para 'and')\n",
        "df2.select(F.col('nome'), F.col('cpf')).filter((F.col('cidade')=='Escada') | (F.col('cidade')=='Recife')).show()"
      ],
      "metadata": {
        "colab": {
          "base_uri": "https://localhost:8080/"
        },
        "id": "xZroQCoaPI1a",
        "outputId": "48701d66-b4ab-4631-f3d5-94e46e05eecb"
      },
      "execution_count": 66,
      "outputs": [
        {
          "output_type": "stream",
          "name": "stdout",
          "text": [
            "+----------------+--------------+\n",
            "|            nome|           cpf|\n",
            "+----------------+--------------+\n",
            "|Anderson Gabriel|999.999.999-99|\n",
            "|     Tales Paulo|222.222.222-22|\n",
            "|Maria das Gracas|333.333.333-33|\n",
            "+----------------+--------------+\n",
            "\n"
          ]
        }
      ]
    },
    {
      "cell_type": "code",
      "source": [
        "# Filtrando e mostrando apenas colunas nome e cpf onde cidade = Escada e nome = Tales Paulo (outra forma com | para 'or' e & para 'and')\n",
        "df2.select(F.col('nome'), F.col('cpf')).filter((F.col('cidade')=='Escada') & (F.col('nome')=='Tales Paulo')).show()"
      ],
      "metadata": {
        "colab": {
          "base_uri": "https://localhost:8080/"
        },
        "id": "tsfJLls-NTIh",
        "outputId": "d5b2cf63-9249-4727-947a-8b1a7bfa3f00"
      },
      "execution_count": 67,
      "outputs": [
        {
          "output_type": "stream",
          "name": "stdout",
          "text": [
            "+-----------+--------------+\n",
            "|       nome|           cpf|\n",
            "+-----------+--------------+\n",
            "|Tales Paulo|222.222.222-22|\n",
            "+-----------+--------------+\n",
            "\n"
          ]
        }
      ]
    }
  ]
}